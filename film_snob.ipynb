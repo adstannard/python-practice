{
  "nbformat": 4,
  "nbformat_minor": 0,
  "metadata": {
    "colab": {
      "name": "Untitled1.ipynb",
      "provenance": [],
      "collapsed_sections": [],
      "authorship_tag": "ABX9TyMl50L+Vt7soFKliWNEDdM1",
      "include_colab_link": true
    },
    "kernelspec": {
      "name": "python3",
      "display_name": "Python 3"
    },
    "language_info": {
      "name": "python"
    }
  },
  "cells": [
    {
      "cell_type": "markdown",
      "metadata": {
        "id": "view-in-github",
        "colab_type": "text"
      },
      "source": [
        "<a href=\"https://colab.research.google.com/github/adstannard/python-practice/blob/master/film_snob.ipynb\" target=\"_parent\"><img src=\"https://colab.research.google.com/assets/colab-badge.svg\" alt=\"Open In Colab\"/></a>"
      ]
    },
    {
      "cell_type": "markdown",
      "source": [
        ""
      ],
      "metadata": {
        "id": "UGa9Z9IDagcs"
      }
    },
    {
      "cell_type": "code",
      "execution_count": 8,
      "metadata": {
        "colab": {
          "base_uri": "https://localhost:8080/"
        },
        "id": "MAbrc0BOaC_C",
        "outputId": "307f20d0-5722-4d2d-d5b5-8744420180bc"
      },
      "outputs": [
        {
          "output_type": "execute_result",
          "data": {
            "text/plain": [
              "['Cars (2006)',\n",
              " 'Cars 2 (2011)',\n",
              " 'Cars 3 (2017)',\n",
              " 'Shrek (2001)',\n",
              " 'Shrek 2 (2004)',\n",
              " '12 Monkeys (1995)']"
            ]
          },
          "metadata": {},
          "execution_count": 8
        }
      ],
      "source": [
        "movies = ['Cars (2006)','Cars 2 (2011)','Cars 3 (2017)','Shrek (2001)','Shrek 2 (2004)','12 Monkeys (1995)']\n",
        "output = []\n",
        "movies\n",
        "\n"
      ]
    },
    {
      "cell_type": "code",
      "source": [
        "def film_snob(movies):\n",
        "  output = []\n",
        "  for movie in movies:\n",
        "    if not movie[-8].isnumeric():\n",
        "      output.append(movie)\n",
        "  return output"
      ],
      "metadata": {
        "id": "N94Jg8XrvKu9"
      },
      "execution_count": 10,
      "outputs": []
    },
    {
      "cell_type": "code",
      "source": [
        "film_snob(movies)"
      ],
      "metadata": {
        "colab": {
          "base_uri": "https://localhost:8080/"
        },
        "id": "jRsMGd6gxo2t",
        "outputId": "8f3a5ab0-2623-42c1-edc3-81e38c8143ce"
      },
      "execution_count": 11,
      "outputs": [
        {
          "output_type": "execute_result",
          "data": {
            "text/plain": [
              "['Cars (2006)', 'Shrek (2001)', '12 Monkeys (1995)']"
            ]
          },
          "metadata": {},
          "execution_count": 11
        }
      ]
    }
  ]
}
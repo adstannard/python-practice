{
    "cells": [
        {
            "cell_type": "markdown",
            "source": [
                "# Grid Reference Triangles\n",
                "\n",
                "The request is for, *\"An application that, by inputting three grid references (making a triangle), can work out and display distance and bearing, as well as internal angles.\"* \n",
                "\n",
                "Following clarification:\n",
                "\n",
                "- Grids will be Ordnance Survey National Grid (Format SU625323)\n",
                "- Distances are short so assuming: No magnetic variation and flat earth are fine\n",
                "- Grids must contain opening 2 letter and an even number of digits but can be from 2 to 10 digit grids (10km to 1m)\n",
                "\n",
                "There is a good summary of the National Grid system here: https://www.ordnancesurvey.co.uk/documents/resources/guide-to-nationalgrid.pdf\n",
                "\n",
                "Attribution https://www.movable-type.co.uk/scripts/os-grid-dist.html Chris Veness from JS version"
            ],
            "metadata": {}
        },
        {
            "cell_type": "markdown",
            "source": [
                "Math required for calcualtions with pi"
            ],
            "metadata": {}
        },
        {
            "cell_type": "code",
            "execution_count": null,
            "source": [
                "import math as m\n"
            ],
            "outputs": [],
            "metadata": {}
        },
        {
            "cell_type": "markdown",
            "source": [
                "## Setup Functions\n",
                "Function to convert National Grid Reference to fully numeric 1m grid reference with 100km numeric grids (SU625323 -> 462500 132300)"
            ],
            "metadata": {}
        },
        {
            "cell_type": "code",
            "execution_count": null,
            "source": [
                "def gridref_numeric(gridref):\n",
                "    # Check gridref has 2 letters at start and even amount of digits following\n",
                "    if gridref.strip()[:2].isalpha() and gridref.strip()[2:].isnumeric() and len(gridref.strip()[2:])%2 == 0:\n",
                "        # Convert letters to numbers A,B,C -> 0,1,2\n",
                "        letter_E = ord(gridref.upper()[0]) - ord('A'.upper())\n",
                "        letter_N = ord(gridref.upper()[1]) - ord('A'.upper())\n",
                "        # Letter I is not used so adjust H,J,K -> 7,8,9\n",
                "        if letter_E > 7:\n",
                "            letter_E -= 1\n",
                "        if letter_N > 7:\n",
                "            letter_N -= 1\n",
                "        # Convert grid letters into 100km-square index from false origin at grid SV (SU -> 4,1)\n",
                "        easting = (((letter_E+3)%5)*5) + (letter_N%5)\n",
                "        northing = (19-((m.floor(letter_E/5)))*5) - (m.floor(letter_N/5))\n",
                "        # Get numerical part of gridref and split easting and northing (625323 -> 625, 323)\n",
                "        gridref_numbers = gridref[2:]\n",
                "        gr_easting = gridref_numbers[:len(gridref_numbers)//2]\n",
                "        gr_northing = gridref_numbers[len(gridref_numbers)//2:]\n",
                "        # Normalise to 1m grid / 10-figure grid reference (625 323 -> 62500 32300)\n",
                "        gr_easting = '{:0<5}'.format(gr_easting)\n",
                "        gr_northing = '{:0<5}'.format(gr_northing)\n",
                "        # Add grid letter number to front and convert str to int (4 62500, 1 32300 -> 462500 132300)\n",
                "        easting = int(str(easting) + gr_easting)\n",
                "        northing = int(str(northing) + gr_northing)\n",
                "        return easting,northing\n",
                "    else:\n",
                "        return print('Grid Reference is in wrong format')\n",
                "\n",
                "def grid_distance(grid_1, grid_2):\n",
                "    # Function to calculate distance between 2 National Grid References - can be different types but must be valid (SU625323 and NU3256)\n",
                "\n",
                "    # Get fully numeric grids\n",
                "    gr_1 = gridref_numeric(grid_1)\n",
                "    gr_2 = gridref_numeric(grid_2)\n",
                "\n",
                "    # Get easting and northing distances between grid_1 and grid_2\n",
                "    delta_E = gr_2[0] - gr_1[0]\n",
                "    delta_N = gr_2[1] - gr_1[1]\n",
                "\n",
                "    # Use pythagoras to get distance between points (a^2 = b^2 + c^2)\n",
                "    dist = round(m.sqrt(delta_E**2 + delta_N**2))\n",
                "    return dist\n",
                "\n",
                "def grid_bearing(grid_1, grid_2):\n",
                "    # Function to calculate bearing between 2 National Grid References - can be different types but must be valid (SU625323 and NU3256)\n",
                "\n",
                "    # Get fully numeric grids\n",
                "    gr_1 = gridref_numeric(grid_1)\n",
                "    gr_2 = gridref_numeric(grid_2)\n",
                "\n",
                "    # Get easting and northing distances between grid_1 and grid_2\n",
                "    delta_E = gr_2[0] - gr_1[0]\n",
                "    delta_N = gr_2[1] - gr_1[1]\n",
                "\n",
                "    # Use arctan to get the bearing convert from radians to degrees\n",
                "    bearing = round((90-(m.atan2(delta_N, delta_E)/m.pi*180)+360) % 360)\n",
                "    return bearing\n",
                "\n",
                "def grid_angle(dist_a,dist_b,dist_c):\n",
                "    # Function to find triangle angles between grid points (Point A has angle A. Distance a = B to C, b = A to C, c = A to B )\n",
                "    angle_A = round(m.degrees(m.acos((dist_b**2 + dist_c**2 - dist_a**2) / (2 * dist_b * dist_c))),2)\n",
                "    return angle_A\n"
            ],
            "outputs": [],
            "metadata": {}
        },
        {
            "cell_type": "markdown",
            "source": [
                "## Input Grids\n",
                "Grids must start with the OS National Grid 2-letter prefix and contain an even number of digits up to a 10-figure grid (1m) (eg: SU625323, SU6232, SU6254032320)"
            ],
            "metadata": {}
        },
        {
            "cell_type": "code",
            "execution_count": null,
            "source": [
                "# Remove the dummy data and replace with your grids BELOW\n",
                "\n",
                "grid_inputs = ['ST560230',      # Enter Grid A here\n",
                "                'SU300200',     # Enter Grid B here\n",
                "                'ST340040'      # Enter Grid C here\n",
                "                ] "
            ],
            "outputs": [],
            "metadata": {}
        },
        {
            "cell_type": "code",
            "execution_count": null,
            "source": [
                "# Create pairs of grids: AB, BC, CA\n",
                "grid_pairs = list(zip(grid_inputs, grid_inputs[1:] + grid_inputs[:1]))\n",
                "# Distance between grids A - B called 'c' (BC - a, CA - b)  \n",
                "dist_keys = ['a_BC','b_CA','c_AB']\n",
                "dist_values = []\n",
                "\n",
                "# Calculagte the length of each side of the triangle\n",
                "for x, value in enumerate(grid_pairs):\n",
                "    dist_val = grid_distance(*value)\n",
                "    dist_values.append(dist_val)\n",
                "\n",
                "# Arrange distances as a, b, c.\n",
                "dist_values.append(dist_values.pop(0))\n",
                "distances = dict(zip(dist_keys, dist_values))\n",
                "\n",
                "angle_label = ['A','B','C']\n",
                "angles = dict.fromkeys(angle_label, [])\n",
                "\n",
                "for key in angles:\n",
                "    # Calculate internal angle of triangle at grid\n",
                "    angle = grid_angle(*dist_values)\n",
                "    angles.update({key : angle})\n",
                "    # Label the grid triangle corner\n",
                "    to_grid1 = chr(ord(key)+1) if ord(key) < 67 else 'A'\n",
                "    to_grid2 = chr(ord(key)-1) if ord(key) > 65 else 'C'\n",
                "    # Calculate the bearing to the other 2 grids with correct label\n",
                "    bearing1 = grid_bearing(*(grid_inputs[:2]))\n",
                "    bearing2 = grid_bearing(grid_inputs[0],grid_inputs[2])\n",
                "    # Output the \n",
                "    print('Grid',key,':',grid_inputs[0],'Angle', key,': ', angle , 'degrees / ', round(angle*(m.pi/0.180)) ,'milliradian /', round(angle*(160/9)), 'mils (NATO)')\n",
                "    # Need to add bearings and distance for each point - below showing the distances but not bearings \n",
                "    print('From:', key, 'to', to_grid1, str(bearing1).zfill(3), 'degrees / ', round(bearing1*(m.pi/0.180)) ,'milliradian /', round(bearing1*(160/9)), 'mils (NATO)', 'at:', dist_values[1], 'metres')\n",
                "    print('From:', key, 'to', to_grid2, str(bearing2).zfill(3), 'degrees / ', round(bearing2*(m.pi/0.180)) ,'milliradian /', round(bearing2*(160/9)), 'mils (NATO)', 'at:', dist_values[2], 'metres','\\n')\n",
                "    \n",
                "    dist_values.append(dist_values.pop(0))\n",
                "    grid_inputs.append(grid_inputs.pop(0))\n"
            ],
            "outputs": [],
            "metadata": {}
        }
    ],
    "metadata": {
        "orig_nbformat": 4,
        "language_info": {
            "name": "python",
            "version": "3.8.8",
            "mimetype": "text/x-python",
            "codemirror_mode": {
                "name": "ipython",
                "version": 3
            },
            "pygments_lexer": "ipython3",
            "nbconvert_exporter": "python",
            "file_extension": ".py"
        },
        "kernelspec": {
            "name": "python3",
            "display_name": "Python 3.8.8 64-bit ('base': conda)"
        },
        "interpreter": {
            "hash": "8dc61b32a03e1852f66e82d87ad942306e37cadeb058651ae5c5fff6639b014e"
        }
    },
    "nbformat": 4,
    "nbformat_minor": 2
}
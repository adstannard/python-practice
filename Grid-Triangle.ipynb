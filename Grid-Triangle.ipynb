{
    "cells": [
        {
            "cell_type": "markdown",
            "source": [
                "# Grid Reference Triangles\n",
                "\n",
                "The request is for, *\"An application that, by inputting three grid references (making a triangle), can work out and display distance and bearing, as well as internal angles.\"* Without specifics of the use case it is difficult to know exactly what to build without making several assumptions:\n",
                "\n",
                "- Grids will be Ordnance Survey National Grid (Format SU625323)\n",
                "- Accuaracy is not too imprtant as distances are short (walking beween points not flying, etc)\n",
                "- No magnetic variation and flat earth are fine\n",
                "\n",
                "There is a good summary of the National Grid system here: https://www.ordnancesurvey.co.uk/documents/resources/guide-to-nationalgrid.pdf\n",
                "Attribution https://www.movable-type.co.uk/scripts/os-grid-dist.html Chris Veness from JS version"
            ],
            "metadata": {}
        },
        {
            "cell_type": "markdown",
            "source": [
                "Math required for calcualtions\n",
                "Sample data for testing"
            ],
            "metadata": {}
        },
        {
            "cell_type": "code",
            "execution_count": 1,
            "source": [
                "import math as m\n"
            ],
            "outputs": [],
            "metadata": {}
        },
        {
            "cell_type": "code",
            "execution_count": null,
            "source": [
                "# Test data\n",
                "sample = 'NK625323'\n",
                "\n",
                "sample_1 = 'SU625323'\n",
                "sample_2 = 'ST320560'\n",
                "sample_3 = 1000\n",
                "sample_4 = 700\n",
                "sample_5 = 800\n",
                "\n",
                "dist_a = 8\n",
                "dist_b = 6\n",
                "dist_c = 7"
            ],
            "outputs": [],
            "metadata": {}
        },
        {
            "cell_type": "markdown",
            "source": [
                "## Setup Functions\n",
                "Function to convert National Grid Reference to fully numeric 1m grid reference with 100km numeric grids (SU625323 -> 462500 132300)"
            ],
            "metadata": {}
        },
        {
            "cell_type": "code",
            "execution_count": 2,
            "source": [
                "def gridref_numeric(gridref):\n",
                "    # Check gridref has 2 letters at start and even amount of digits following\n",
                "    if gridref.strip()[:2].isalpha() and gridref.strip()[2:].isnumeric() and len(gridref.strip()[2:])%2 == 0:\n",
                "        # Convert letters to numbers A,B,C -> 0,1,2\n",
                "        letter_E = ord(gridref.upper()[0]) - ord('A'.upper())\n",
                "        letter_N = ord(gridref.upper()[1]) - ord('A'.upper())\n",
                "        # Letter I is not used so adjust H,J,K -> 7,8,9\n",
                "        if letter_E > 7:\n",
                "            letter_E -= 1\n",
                "        if letter_N > 7:\n",
                "            letter_N -= 1\n",
                "        # Convert grid letters into 100km-square index from false origin at grid SV (SU -> 4,1)\n",
                "        easting = (((letter_E+3)%5)*5) + (letter_N%5)\n",
                "        northing = (19-((m.floor(letter_E/5)))*5) - (m.floor(letter_N/5))\n",
                "        # Get numerical part of gridref and split easting and northing (625323 -> 625, 323)\n",
                "        gridref_numbers = gridref[2:]\n",
                "        gr_easting = gridref_numbers[:len(gridref_numbers)//2]\n",
                "        gr_northing = gridref_numbers[len(gridref_numbers)//2:]\n",
                "        # Normalise to 1m grid / 10-figure grid reference (625 323 -> 62500 32300)\n",
                "        gr_easting = '{:0<5}'.format(gr_easting)\n",
                "        gr_northing = '{:0<5}'.format(gr_northing)\n",
                "        # Add grid letter number to front and convert str to int (4 62500, 1 32300 -> 462500 132300)\n",
                "        easting = int(str(easting) + gr_easting)\n",
                "        northing = int(str(northing) + gr_northing)\n",
                "        return easting,northing\n",
                "    else:\n",
                "        return print('Grid Reference is in wrong format')"
            ],
            "outputs": [
                {
                    "output_type": "execute_result",
                    "data": {
                        "text/plain": [
                            "(462500, 832300)"
                        ]
                    },
                    "metadata": {},
                    "execution_count": 2
                }
            ],
            "metadata": {}
        },
        {
            "cell_type": "code",
            "execution_count": null,
            "source": [
                "# Test the gridref_numeric() function\n",
                "gridref_numeric(sample)"
            ],
            "outputs": [],
            "metadata": {}
        },
        {
            "cell_type": "code",
            "execution_count": 6,
            "source": [
                "def grid_distance(grid_1, grid_2):\n",
                "    # Function to calculate distance between 2 National Grid References - can be different types but must be valid (SU625323 and NU3256)\n",
                "\n",
                "    # Get fully numeric grids\n",
                "    gr_1 = gridref_numeric(grid_1)\n",
                "    gr_2 = gridref_numeric(grid_2)\n",
                "\n",
                "    # Get easting and northing distances between grid_1 and grid_2\n",
                "    delta_E = gr_2[0] - gr_1[0]\n",
                "    delta_N = gr_2[1] - gr_1[1]\n",
                "\n",
                "    # Use pythagoras to get distance between points (a^2 = b^2 + c^2)\n",
                "    dist = round(m.sqrt(delta_E**2 + delta_N**2))\n",
                "    return dist"
            ],
            "outputs": [
                {
                    "output_type": "stream",
                    "name": "stdout",
                    "text": [
                        "132635 m\n"
                    ]
                }
            ],
            "metadata": {}
        },
        {
            "cell_type": "code",
            "execution_count": null,
            "source": [
                "# Test the grid_distance() function\n",
                "print(grid_distance(sample_1, sample_2),'m')"
            ],
            "outputs": [],
            "metadata": {}
        },
        {
            "cell_type": "code",
            "execution_count": 7,
            "source": [
                "def grid_bearing(grid_1, grid_2):\n",
                "    # Function to calculate bearing between 2 National Grid References - can be different types but must be valid (SU625323 and NU3256)\n",
                "\n",
                "    # Get fully numeric grids\n",
                "    gr_1 = gridref_numeric(grid_1)\n",
                "    gr_2 = gridref_numeric(grid_2)\n",
                "\n",
                "    # Get easting and northing distances between grid_1 and grid_2\n",
                "    delta_E = gr_2[0] - gr_1[0]\n",
                "    delta_N = gr_2[1] - gr_1[1]\n",
                "\n",
                "    # Use arctan to get the bearing convert from radians to degrees\n",
                "    bearing = round((90-(m.atan2(delta_N, delta_E)/m.pi*180)+360) % 360)\n",
                "    return bearing"
            ],
            "outputs": [
                {
                    "output_type": "stream",
                    "name": "stdout",
                    "text": [
                        "280 degrees\n"
                    ]
                }
            ],
            "metadata": {}
        },
        {
            "cell_type": "code",
            "execution_count": null,
            "source": [
                "# Test the grid_bearing() function\n",
                "print(grid_bearing(sample_1, sample_2),'degrees')"
            ],
            "outputs": [],
            "metadata": {}
        },
        {
            "cell_type": "code",
            "execution_count": 16,
            "source": [
                "def grid_angle(dist_a,dist_b,dist_c):\n",
                "    # Function to find triangle angles between grid points (Point A has angle A. Distance a = B to C, b = A to C, c = A to B )\n",
                "    angle_A = round(m.degrees(m.acos((dist_b**2 + dist_c**2 - dist_a**2) / (2 * dist_b * dist_c))),2)\n",
                "    return angle_A\n",
                "    \n"
            ],
            "outputs": [
                {
                    "output_type": "stream",
                    "name": "stdout",
                    "text": [
                        "75.52 degrees\n"
                    ]
                }
            ],
            "metadata": {}
        },
        {
            "cell_type": "code",
            "execution_count": null,
            "source": [
                "# Test the grid_angle() function\n",
                "print(grid_angle(dist_a, dist_b, dist_c),'degrees')"
            ],
            "outputs": [],
            "metadata": {}
        },
        {
            "cell_type": "code",
            "execution_count": 44,
            "source": [
                "gridref = 'SU625323'\n",
                "\n",
                "if gridref.strip()[:2].isalpha() and gridref.strip()[2:].isnumeric() and len(gridref.strip()[2:])%2 == 0:\n",
                "    letter_E = ord(gridref.upper()[0]) - ord('A'.upper())\n",
                "    letter_N = ord(gridref.upper()[1]) - ord('A'.upper())\n",
                "    print(letter_E,letter_N)\n",
                "    if letter_E > 7:\n",
                "        letter_E -= 1\n",
                "    if letter_N > 7:\n",
                "        letter_N -= 1\n",
                "    print('If over I',letter_E, letter_N)\n",
                "    # Convert grid letters into 100km-square index from false origin (grid SV)\n",
                "    easting = (((letter_E+3)%5)*5) + (letter_N%5)\n",
                "    northing = (19-((m.floor(letter_E/5)))*5) - (m.floor(letter_N/5))\n",
                "    print('easting =', easting)\n",
                "    print('northing =', northing)\n",
                "    gridref_numbers = gridref[2:]\n",
                "    gr_easting = gridref_numbers[:len(gridref_numbers)//2]\n",
                "    gr_northing = gridref_numbers[len(gridref_numbers)//2:]\n",
                "    print(gr_easting, gr_northing)\n",
                "    # Normalise to 1m grid / 10-figure grid reference\n",
                "    gr_easting = '{:0<5}'.format(gr_easting)\n",
                "    gr_northing = '{:0<5}'.format(gr_northing)\n",
                "    print(gr_easting, gr_northing)\n",
                "    easting = int(str(easting) + gr_easting)\n",
                "    northing = int(str(northing) + gr_northing)\n",
                "    print('easting =', easting)\n",
                "    print('northing =', northing)\n",
                "else:\n",
                "    print('Grid Reference is in wrong format')\n"
            ],
            "outputs": [
                {
                    "output_type": "stream",
                    "name": "stdout",
                    "text": [
                        "18 20\n",
                        "If over I 17 19\n",
                        "easting = 4\n",
                        "northing = 1\n",
                        "625 323\n",
                        "62500 32300\n",
                        "easting = 462500\n",
                        "northing = 132300\n"
                    ]
                }
            ],
            "metadata": {}
        }
    ],
    "metadata": {
        "orig_nbformat": 4,
        "language_info": {
            "name": "python",
            "version": "3.8.8",
            "mimetype": "text/x-python",
            "codemirror_mode": {
                "name": "ipython",
                "version": 3
            },
            "pygments_lexer": "ipython3",
            "nbconvert_exporter": "python",
            "file_extension": ".py"
        },
        "kernelspec": {
            "name": "python3",
            "display_name": "Python 3.8.8 64-bit ('base': conda)"
        },
        "interpreter": {
            "hash": "8dc61b32a03e1852f66e82d87ad942306e37cadeb058651ae5c5fff6639b014e"
        }
    },
    "nbformat": 4,
    "nbformat_minor": 2
}
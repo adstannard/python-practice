{
    "cells": [
        {
            "cell_type": "markdown",
            "source": [
                "# Satellite Imagery object detection\n",
                "\n",
                "YOLOv5 is a cutting edge solution\n",
                "<https://towardsdatascience.com/yolov5-end-to-end-object-detector-project-on-custom-dataset-5d9cc2c95921>\n",
                "\n",
                "\n",
                "UP42 platform link:\n",
                "<https://up42.com/order-data?utm_medium=ppc&utm_campaign=sc+-+EMEA+-+adwords+-+High_Resolution_Satellite_Data&utm_term=sar%20satellite%20data&utm_source=adwords&hsa_ad=522806228590&hsa_kw=sar%20satellite%20data&hsa_acc=4550935533&hsa_mt=e&hsa_src=g&hsa_ver=3&hsa_grp=128090688211&hsa_net=adwords&hsa_tgt=kwd-1270309155971&hsa_cam=12558541886&gclid=CjwKCAjwj8eJBhA5EiwAg3z0m3Ft7sbfXYt-4rpOyBNXOoYklJyziElItluJm44fsGH7Khj66TuGSBoC27AQAvD_BwE>\n",
                "\n",
                "\n",
                "Open Soruce Projects:\n",
                "<https://ai.plainenglish.io/five-unbelievable-open-source-object-detection-projects-e851f4c89654>"
            ],
            "metadata": {}
        },
        {
            "cell_type": "code",
            "execution_count": null,
            "source": [],
            "outputs": [],
            "metadata": {}
        }
    ],
    "metadata": {
        "orig_nbformat": 4,
        "language_info": {
            "name": "python"
        }
    },
    "nbformat": 4,
    "nbformat_minor": 2
}
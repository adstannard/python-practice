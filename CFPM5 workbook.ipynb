{
 "metadata": {
  "language_info": {
   "codemirror_mode": {
    "name": "ipython",
    "version": 3
   },
   "file_extension": ".py",
   "mimetype": "text/x-python",
   "name": "python",
   "nbconvert_exporter": "python",
   "pygments_lexer": "ipython3",
   "version": "3.8.8"
  },
  "orig_nbformat": 4,
  "kernelspec": {
   "name": "python3",
   "display_name": "Python 3.8.8 64-bit ('base': conda)"
  },
  "interpreter": {
   "hash": "8dc61b32a03e1852f66e82d87ad942306e37cadeb058651ae5c5fff6639b014e"
  }
 },
 "nbformat": 4,
 "nbformat_minor": 2,
 "cells": [
  {
   "cell_type": "code",
   "execution_count": 1,
   "metadata": {},
   "outputs": [
    {
     "output_type": "execute_result",
     "data": {
      "text/plain": [
       "'56.0 Kph'"
      ]
     },
     "metadata": {},
     "execution_count": 1
    }
   ],
   "source": [
    "def calc_speed(distance, time): \n",
    "       return str(distance/time)+\" Kph\"\n",
    "\n",
    "calc_speed(140, 2.5)\n"
   ]
  },
  {
   "cell_type": "code",
   "execution_count": 2,
   "metadata": {},
   "outputs": [
    {
     "output_type": "error",
     "ename": "SyntaxError",
     "evalue": "invalid syntax (<ipython-input-2-d5803e254a66>, line 3)",
     "traceback": [
      "\u001b[0;36m  File \u001b[0;32m\"<ipython-input-2-d5803e254a66>\"\u001b[0;36m, line \u001b[0;32m3\u001b[0m\n\u001b[0;31m    Data structure:\u001b[0m\n\u001b[0m         ^\u001b[0m\n\u001b[0;31mSyntaxError\u001b[0m\u001b[0;31m:\u001b[0m invalid syntax\n"
     ]
    }
   ],
   "source": [
    "print(smt_products['Head Sales'])\n",
    "\n",
    "Data structure:print(smt_products['Head Sales'])\n",
    "\n",
    "Data structure:\n",
    "\n",
    "smt_products = {\"Product Director\":\"Heather Johnson\", \"Head R&D\":\"Connor Turner\", \"Head Sales\": \"Louise Miller\", \"Head Manufacturing\": \"Sarah Moore\"}\n",
    "\n",
    "\n",
    "smt_products = {\"Product Director\":\"Heather Johnson\", \"Head R&D\":\"Connor Turner\", \"Head Sales\": \"Louise Miller\", \"Head Manufacturing\": \"Sarah Moore\"}\n"
   ]
  },
  {
   "cell_type": "code",
   "execution_count": 4,
   "metadata": {},
   "outputs": [
    {
     "output_type": "stream",
     "name": "stdout",
     "text": [
      "Louise Miller\n"
     ]
    }
   ],
   "source": [
    "\n",
    "\n",
    "smt_products = {\"Product Director\":\"Heather Johnson\", \"Head R&D\":\"Connor Turner\", \"Head Sales\": \"Louise Miller\", \"Head Manufacturing\": \"Sarah Moore\"}\n",
    "print(smt_products['Head Sales'])"
   ]
  },
  {
   "cell_type": "code",
   "execution_count": 5,
   "metadata": {},
   "outputs": [
    {
     "output_type": "stream",
     "name": "stdout",
     "text": [
      "hellohellohello\n"
     ]
    }
   ],
   "source": [
    "print(\"hello\" * 3)"
   ]
  },
  {
   "cell_type": "code",
   "execution_count": 6,
   "metadata": {},
   "outputs": [
    {
     "output_type": "error",
     "ename": "KeyError",
     "evalue": "'Head r&d'",
     "traceback": [
      "\u001b[0;31m---------------------------------------------------------------------------\u001b[0m",
      "\u001b[0;31mKeyError\u001b[0m                                  Traceback (most recent call last)",
      "\u001b[0;32m<ipython-input-6-f785ea4d74d3>\u001b[0m in \u001b[0;36m<module>\u001b[0;34m\u001b[0m\n\u001b[1;32m      1\u001b[0m \u001b[0msmt_products\u001b[0m \u001b[0;34m=\u001b[0m \u001b[0;34m{\u001b[0m\u001b[0;34m\"Product Director\"\u001b[0m\u001b[0;34m:\u001b[0m\u001b[0;34m\"Heather Johnson\"\u001b[0m\u001b[0;34m,\u001b[0m \u001b[0;34m\"Head R&D\"\u001b[0m\u001b[0;34m:\u001b[0m\u001b[0;34m\"Connor Turner\"\u001b[0m\u001b[0;34m,\u001b[0m \u001b[0;34m\"Head Sales\"\u001b[0m\u001b[0;34m:\u001b[0m \u001b[0;34m\"Louise Miller\"\u001b[0m\u001b[0;34m,\u001b[0m \u001b[0;34m\"Head Manufacturing\"\u001b[0m\u001b[0;34m:\u001b[0m \u001b[0;34m\"Sarah Moore\"\u001b[0m\u001b[0;34m}\u001b[0m\u001b[0;34m\u001b[0m\u001b[0;34m\u001b[0m\u001b[0m\n\u001b[0;32m----> 2\u001b[0;31m \u001b[0mprint\u001b[0m\u001b[0;34m(\u001b[0m\u001b[0msmt_products\u001b[0m\u001b[0;34m[\u001b[0m\u001b[0;34m'Head r&d'\u001b[0m\u001b[0;34m]\u001b[0m\u001b[0;34m)\u001b[0m\u001b[0;34m\u001b[0m\u001b[0;34m\u001b[0m\u001b[0m\n\u001b[0m",
      "\u001b[0;31mKeyError\u001b[0m: 'Head r&d'"
     ]
    }
   ],
   "source": [
    "smt_products = {\"Product Director\":\"Heather Johnson\", \"Head R&D\":\"Connor Turner\", \"Head Sales\": \"Louise Miller\", \"Head Manufacturing\": \"Sarah Moore\"}\n",
    "print(smt_products['Head r&d'])"
   ]
  },
  {
   "cell_type": "code",
   "execution_count": 7,
   "metadata": {},
   "outputs": [
    {
     "output_type": "execute_result",
     "data": {
      "text/plain": [
       "2"
      ]
     },
     "metadata": {},
     "execution_count": 7
    }
   ],
   "source": [
    "model = \"NQQ Industries Ltd\"\n",
    "model.count(' ')"
   ]
  },
  {
   "cell_type": "code",
   "execution_count": 8,
   "metadata": {},
   "outputs": [
    {
     "output_type": "error",
     "ename": "NameError",
     "evalue": "name 'num' is not defined",
     "traceback": [
      "\u001b[0;31m---------------------------------------------------------------------------\u001b[0m",
      "\u001b[0;31mNameError\u001b[0m                                 Traceback (most recent call last)",
      "\u001b[0;32m<ipython-input-8-dea4ff10ace8>\u001b[0m in \u001b[0;36m<module>\u001b[0;34m\u001b[0m\n\u001b[0;32m----> 1\u001b[0;31m \u001b[0mvar_d\u001b[0m \u001b[0;34m=\u001b[0m \u001b[0mnum\u001b[0m\u001b[0;34m(\u001b[0m\u001b[0;36m56\u001b[0m\u001b[0;34m)\u001b[0m\u001b[0;34m\u001b[0m\u001b[0;34m\u001b[0m\u001b[0m\n\u001b[0m",
      "\u001b[0;31mNameError\u001b[0m: name 'num' is not defined"
     ]
    }
   ],
   "source": [
    "var_d = num(56)"
   ]
  },
  {
   "cell_type": "code",
   "execution_count": 9,
   "metadata": {},
   "outputs": [
    {
     "output_type": "stream",
     "name": "stdout",
     "text": [
      "N 78\nQ 81\nQ 81\n"
     ]
    }
   ],
   "source": [
    "for letter in \"NQQ\": \n",
    "       print(letter, ord(letter))"
   ]
  },
  {
   "cell_type": "code",
   "execution_count": 10,
   "metadata": {},
   "outputs": [
    {
     "output_type": "execute_result",
     "data": {
      "text/plain": [
       "121"
      ]
     },
     "metadata": {},
     "execution_count": 10
    }
   ],
   "source": [
    "string = \"abuikdicwddvwtfortjzdvcvdsuwfvryycfrirorrimclcozycuuuceagcfjgkanrjihrqlksuzbeenhjmvscywuhabozrkciehhlzjrfcgixfporlgnfxhhwqrtplekuffdcbxghznivoptjlbkoydgpcmmtvliqpremfbbfmfmtclctatyvuhzsuksmxzfonnqvnifhjjmhecbyutviienzripomfaadqgzikdvdnetpbrznhtqzzcohujvplzmdrpkdkkbqonunspntfvwuxilxnzvndpimvohhwffmaxoosqccrkwdijqrpptajxzwlkldwzqdxzhvplheoscpltniziwugzcpndaguwmzrinslkbahzbmvdeqcmvticbcjmnadvgomtavgmolxjdhoswnyxndrhsdcubxmfrwrxkfbjptsvhjyzvvyweristocjxbybesznjofeftnzvbwapecobxuguvmrmfyhxsbafhzpycyjerfcjwvwtnoxwxujguxzmyzfyuqusimdqlnalbrbettenxmczmjpeyeqvbkqnqkjhtfxepelhudijeqapyuxszmmiypbyurxkibwwkusthbmwukiunbseynwrgeitzqwcwbywscsgqmnucdcwcxyazmslkjfgjaasowyojjnafcdalehggutkbsatmqerebrqdxqqydkbmdnzjakgwouifevnjgvbgilqvhnevmbsiedvipysvexnlofrmbtvfphrylevatfqubcwnjgxdgstxakdtukziulcvoamskxiuioqkuarwxmjfpbpzqbqziewjykilixxuksuvzgjuqalnpfaoxevekdxzckuyckxfzygkuowlxcwvwntqhtdrwcbdelgnhgyvnqyzmncrtmyadechnsxcaqqytlvjwkqziczhyvuylicoljhgdkkcxkwlezcxvemtwvvhzqiikkpvjnwopmagaiajwpmayenldyvhgyisrdfffiezdmuiqiqwiaslcmxchlglhwwbuaeertmlzlvwglkwxzarhaohfezsavpgfpxwwtfqydzaoirjftbbsyxpslwivgnvkphpscvcwcoxgfkwpobhecfjbsburvhwxkzvceikdwzbtzckzabiswcpuvyqfsuldmalaxknauldafwjunvojcrofqfaxxnglbjdqfrrocelugtnnqpvccrvjykdegeogqdrovoqnuarrqtgitbuutcxfcyxdgkhqridlysntftebykrigkiemindiwfuduwzrifjdwgwrpekfedkbquoouryygqwbolwoyerjlxzfcnhcganwzrivgsoqyskpcbpnezjnytydykymgoctcvrvwdoumjaybyzolnbrggztjsrcofwubtckjmzkuxtojqlwludzrpcmbeajhrgibzzyxqzumewzkbmhmaciwlwwjzwxuqekmzewaxzsmhewkphhacdcfraxqponhrojshlbqgbvrumippdiokgvmrfmdqkltpgfhgcftyyjpfemltbilkxfkcqmqveqrhdoygvkidvbkotwexqkpdsncikwikxsdseybtwqqbzccrfykqgpxdiapvuuweklmrurojmjdzrimlmavhrvdnufwowcfdiugaojfeknwhihffeuiynuyokgkcpcjnghuwejazgwzowtdwtmrfsomonbdnebvzrqpfmsmfjrxswvcvachlvlwiwdrqatwvvjtcgjxkauwklmtwxkushbesxyqxcbvjdjdajtvwkgxwzldnlpqsrjwohjjowgmqluuenzlsqbtxymsilvcakekrocaybqqtrlojkuftopdghjrhxpbwmdonmwvwxppgveodunisdvawvunpwpkczolvnsyhmcdvmcbmejkjeayyncezrylgxeujggzgvjahlxifkjsnxibcfgmgkrimrrtmvjwjqgcjarewvgnjqbluoenltobppiewaziwympmwehcwqdvswesacmmlasmoizpbkemccuqkdubacixzujmzrombawuklsqwvotdyjbhvgvmzmhnjtpdctdqpmkmjkhlffuoqxdjwjcyysyittfttsxxhflhezlutjdvnwijclrznbvkgujtoooyayifpoodcuthabjdjrzfvitpcjxltwaxkmatvnrsbczieztliuakgmnildwjbfxnijpqdrdoymngbrralslnjmfnyrinuvrcslsuohuizzvhyetscejulnyyvgzxrrlfjgjdmzthaeatjlekwaqaegcutdtkhmnpnispuylvjghumbqykgjcuyxhaocgpnempnvbghiusvcbvsmtunamrqwcroacxmmeyygjbiwyhjxhjeeiyqqehlclpptgiopvlsstnprkqdkpovnidaddwbrwdpcerqwxrwgquyatbrbvzvwthrvupchzxyfwvqldqnyhhwxragotqcpamsanqllcoajbtgcajmfksxwvuxbrkfbiwyllyyosaxyrskxlcmszzgbucxulsuerwtfirocuomgxreihjsgowfvznxvezndadkkqedunfovlcsymqgliykqcejhozdvccpajboktzhfhksxuriimyabmbakilcwwndwkqdjdrbessrariwkzcnurwsfeoajozodcqrwnfmwzfznibmuekmsvpdqzcqxntjhfuaqlmlhzfpuykvrfbbdvmulhqimpsnuyheysvoqwrarpxeuadfrptkvdiggrqbawuodrtaaeotjprxklydsnjakiyetajknqfriygovifcraljahugogxibtqwoaypigdbunppfqsfqzkmnnkvuvhfvilgtnmqsyuurjptpvesjplydiplrhhspvyctycfthkhajvwncybgrqlxwxcbyvlmevnbsbsbgjdgdsjtnltorygllwctomqwmhakzyontepnhmohaiuzatjpbbwdyppkryptdltoppxpdljdduwuebwosmiramuhdpnuptzywotpwqdsdairrkqinvzheyyzptgzpbzfvdgsfemrbozxhcjetuxzbzurflrwhdtxeuzkbyagdlkrgdjynrhfkieviureeruadjqfmfvvrbqktaquuieqskmchigvxmkjogymrnsxdbmhbungxoxryiqiiclajohgocjckzvxdw\"\n",
    "string.count('e')"
   ]
  },
  {
   "cell_type": "code",
   "execution_count": 12,
   "metadata": {},
   "outputs": [
    {
     "output_type": "stream",
     "name": "stdout",
     "text": [
      "[54, 76, 77, 97, 126, 163, 205, 214, 235, 337, 376, 444, 456, 463, 473, 500, 540, 543, 552, 554, 568, 570, 577, 616, 622, 674, 687, 689, 714, 728, 734, 742, 759, 819, 847, 849, 886, 907, 950, 955, 987, 1004, 1032, 1033, 1055, 1114, 1131, 1200, 1218, 1220, 1265, 1274, 1297, 1300, 1321, 1352, 1425, 1441, 1462, 1466, 1474, 1538, 1554, 1572, 1590, 1617, 1657, 1666, 1686, 1710, 1768, 1813, 1831, 1875, 1910, 1914, 1920, 1927, 1972, 1983, 1992, 2003, 2012, 2028, 2119, 2191, 2256, 2260, 2284, 2289, 2295, 2337, 2370, 2384, 2385, 2390, 2430, 2545, 2560, 2574, 2583, 2603, 2653, 2670, 2694, 2744, 2756, 2782, 2800, 2879, 2926, 2967, 3010, 3050, 3067, 3077, 3094, 3116, 3121, 3122, 3144]\n"
     ]
    }
   ],
   "source": [
    "newstring = \"abuikdicwddvwtfortjzdvcvdsuwfvryycfrirorrimclcozycuuuceagcfjgkanrjihrqlksuzbeenhjmvscywuhabozrkciehhlzjrfcgixfporlgnfxhhwqrtplekuffdcbxghznivoptjlbkoydgpcmmtvliqpremfbbfmfmtclctatyvuhzsuksmxzfonnqvnifhjjmhecbyutviienzripomfaadqgzikdvdnetpbrznhtqzzcohujvplzmdrpkdkkbqonunspntfvwuxilxnzvndpimvohhwffmaxoosqccrkwdijqrpptajxzwlkldwzqdxzhvplheoscpltniziwugzcpndaguwmzrinslkbahzbmvdeqcmvticbcjmnadvgomtavgmolxjdhoswnyxndrhsdcubxmfrwrxkfbjptsvhjyzvvyweristocjxbybesznjofeftnzvbwapecobxuguvmrmfyhxsbafhzpycyjerfcjwvwtnoxwxujguxzmyzfyuqusimdqlnalbrbettenxmczmjpeyeqvbkqnqkjhtfxepelhudijeqapyuxszmmiypbyurxkibwwkusthbmwukiunbseynwrgeitzqwcwbywscsgqmnucdcwcxyazmslkjfgjaasowyojjnafcdalehggutkbsatmqerebrqdxqqydkbmdnzjakgwouifevnjgvbgilqvhnevmbsiedvipysvexnlofrmbtvfphrylevatfqubcwnjgxdgstxakdtukziulcvoamskxiuioqkuarwxmjfpbpzqbqziewjykilixxuksuvzgjuqalnpfaoxevekdxzckuyckxfzygkuowlxcwvwntqhtdrwcbdelgnhgyvnqyzmncrtmyadechnsxcaqqytlvjwkqziczhyvuylicoljhgdkkcxkwlezcxvemtwvvhzqiikkpvjnwopmagaiajwpmayenldyvhgyisrdfffiezdmuiqiqwiaslcmxchlglhwwbuaeertmlzlvwglkwxzarhaohfezsavpgfpxwwtfqydzaoirjftbbsyxpslwivgnvkphpscvcwcoxgfkwpobhecfjbsburvhwxkzvceikdwzbtzckzabiswcpuvyqfsuldmalaxknauldafwjunvojcrofqfaxxnglbjdqfrrocelugtnnqpvccrvjykdegeogqdrovoqnuarrqtgitbuutcxfcyxdgkhqridlysntftebykrigkiemindiwfuduwzrifjdwgwrpekfedkbquoouryygqwbolwoyerjlxzfcnhcganwzrivgsoqyskpcbpnezjnytydykymgoctcvrvwdoumjaybyzolnbrggztjsrcofwubtckjmzkuxtojqlwludzrpcmbeajhrgibzzyxqzumewzkbmhmaciwlwwjzwxuqekmzewaxzsmhewkphhacdcfraxqponhrojshlbqgbvrumippdiokgvmrfmdqkltpgfhgcftyyjpfemltbilkxfkcqmqveqrhdoygvkidvbkotwexqkpdsncikwikxsdseybtwqqbzccrfykqgpxdiapvuuweklmrurojmjdzrimlmavhrvdnufwowcfdiugaojfeknwhihffeuiynuyokgkcpcjnghuwejazgwzowtdwtmrfsomonbdnebvzrqpfmsmfjrxswvcvachlvlwiwdrqatwvvjtcgjxkauwklmtwxkushbesxyqxcbvjdjdajtvwkgxwzldnlpqsrjwohjjowgmqluuenzlsqbtxymsilvcakekrocaybqqtrlojkuftopdghjrhxpbwmdonmwvwxppgveodunisdvawvunpwpkczolvnsyhmcdvmcbmejkjeayyncezrylgxeujggzgvjahlxifkjsnxibcfgmgkrimrrtmvjwjqgcjarewvgnjqbluoenltobppiewaziwympmwehcwqdvswesacmmlasmoizpbkemccuqkdubacixzujmzrombawuklsqwvotdyjbhvgvmzmhnjtpdctdqpmkmjkhlffuoqxdjwjcyysyittfttsxxhflhezlutjdvnwijclrznbvkgujtoooyayifpoodcuthabjdjrzfvitpcjxltwaxkmatvnrsbczieztliuakgmnildwjbfxnijpqdrdoymngbrralslnjmfnyrinuvrcslsuohuizzvhyetscejulnyyvgzxrrlfjgjdmzthaeatjlekwaqaegcutdtkhmnpnispuylvjghumbqykgjcuyxhaocgpnempnvbghiusvcbvsmtunamrqwcroacxmmeyygjbiwyhjxhjeeiyqqehlclpptgiopvlsstnprkqdkpovnidaddwbrwdpcerqwxrwgquyatbrbvzvwthrvupchzxyfwvqldqnyhhwxragotqcpamsanqllcoajbtgcajmfksxwvuxbrkfbiwyllyyosaxyrskxlcmszzgbucxulsuerwtfirocuomgxreihjsgowfvznxvezndadkkqedunfovlcsymqgliykqcejhozdvccpajboktzhfhksxuriimyabmbakilcwwndwkqdjdrbessrariwkzcnurwsfeoajozodcqrwnfmwzfznibmuekmsvpdqzcqxntjhfuaqlmlhzfpuykvrfbbdvmulhqimpsnuyheysvoqwrarpxeuadfrptkvdiggrqbawuodrtaaeotjprxklydsnjakiyetajknqfriygovifcraljahugogxibtqwoaypigdbunppfqsfqzkmnnkvuvhfvilgtnmqsyuurjptpvesjplydiplrhhspvyctycfthkhajvwncybgrqlxwxcbyvlmevnbsbsbgjdgdsjtnltorygllwctomqwmhakzyontepnhmohaiuzatjpbbwdyppkryptdltoppxpdljdduwuebwosmiramuhdpnuptzywotpwqdsdairrkqinvzheyyzptgzpbzfvdgsfemrbozxhcjetuxzbzurflrwhdtxeuzkbyagdlkrgdjynrhfkieviureeruadjqfmfvvrbqktaquuieqskmchigvxmkjogymrnsxdbmhbungxoxryiqiiclajohgocjckzvxdw\"\n",
    "findchr = 'e'\n",
    "print([pos for pos, char in enumerate(newstring) if char == findchr])\n"
   ]
  },
  {
   "cell_type": "code",
   "execution_count": null,
   "metadata": {},
   "outputs": [],
   "source": []
  }
 ]
}